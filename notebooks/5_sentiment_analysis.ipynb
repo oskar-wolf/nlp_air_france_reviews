{
 "cells": [
  {
   "cell_type": "code",
   "execution_count": null,
   "metadata": {},
   "outputs": [],
   "source": [
    "import pandas as pd\n",
    "import numpy as np\n",
    "import matplotlib.pyplot as plt\n",
    "import seaborn as sns\n",
    "from sklearn.feature_extraction.text import TfidfVectorizer\n",
    "from sklearn.model_selection import train_test_split\n",
    "from sklearn.linear_model import LogisticRegression\n",
    "from sklearn.metrics import classification_report, accuracy_score\n",
    "import torch\n",
    "from transformers import pipeline\n",
    "from vaderSentiment.vaderSentiment import SentimentIntensityAnalyzer\n"
   ]
  },
  {
   "cell_type": "code",
   "execution_count": 4,
   "metadata": {},
   "outputs": [],
   "source": [
    "df = pd.read_csv(\"../data/processed/processed_reviews.csv\")"
   ]
  },
  {
   "cell_type": "code",
   "execution_count": 6,
   "metadata": {},
   "outputs": [
    {
     "data": {
      "text/html": [
       "<div>\n",
       "<style scoped>\n",
       "    .dataframe tbody tr th:only-of-type {\n",
       "        vertical-align: middle;\n",
       "    }\n",
       "\n",
       "    .dataframe tbody tr th {\n",
       "        vertical-align: top;\n",
       "    }\n",
       "\n",
       "    .dataframe thead th {\n",
       "        text-align: right;\n",
       "    }\n",
       "</style>\n",
       "<table border=\"1\" class=\"dataframe\">\n",
       "  <thead>\n",
       "    <tr style=\"text-align: right;\">\n",
       "      <th></th>\n",
       "      <th>rating</th>\n",
       "      <th>review_length_text</th>\n",
       "      <th>review_length_title</th>\n",
       "      <th>polarity_text</th>\n",
       "      <th>polarity_title</th>\n",
       "      <th>subjectivity_text</th>\n",
       "      <th>subjectivity_title</th>\n",
       "      <th>lemmatized_text</th>\n",
       "      <th>lemmatized_title</th>\n",
       "      <th>day_of_week</th>\n",
       "      <th>month</th>\n",
       "      <th>year</th>\n",
       "    </tr>\n",
       "  </thead>\n",
       "  <tbody>\n",
       "    <tr>\n",
       "      <th>0</th>\n",
       "      <td>1</td>\n",
       "      <td>408</td>\n",
       "      <td>2</td>\n",
       "      <td>0.018448</td>\n",
       "      <td>-1.0</td>\n",
       "      <td>0.512241</td>\n",
       "      <td>1.0</td>\n",
       "      <td>['travel', 'travel', 'often', 'last', 'week', ...</td>\n",
       "      <td>['bad', 'airline']</td>\n",
       "      <td>Wednesday</td>\n",
       "      <td>11</td>\n",
       "      <td>2024</td>\n",
       "    </tr>\n",
       "    <tr>\n",
       "      <th>1</th>\n",
       "      <td>1</td>\n",
       "      <td>157</td>\n",
       "      <td>4</td>\n",
       "      <td>-0.060897</td>\n",
       "      <td>-1.0</td>\n",
       "      <td>0.592949</td>\n",
       "      <td>1.0</td>\n",
       "      <td>['review', 'regard', 'economy', 'flex', 'choos...</td>\n",
       "      <td>['terrible', 'experience', 'airfrance']</td>\n",
       "      <td>Wednesday</td>\n",
       "      <td>11</td>\n",
       "      <td>2024</td>\n",
       "    </tr>\n",
       "    <tr>\n",
       "      <th>2</th>\n",
       "      <td>1</td>\n",
       "      <td>259</td>\n",
       "      <td>11</td>\n",
       "      <td>-0.094163</td>\n",
       "      <td>-0.6</td>\n",
       "      <td>0.488287</td>\n",
       "      <td>0.7</td>\n",
       "      <td>['recently', 'fly', 'hong', 'kong', 'nov', 'th...</td>\n",
       "      <td>['extremely', 'disappointing', 'experience', '...</td>\n",
       "      <td>Tuesday</td>\n",
       "      <td>11</td>\n",
       "      <td>2024</td>\n",
       "    </tr>\n",
       "    <tr>\n",
       "      <th>3</th>\n",
       "      <td>1</td>\n",
       "      <td>274</td>\n",
       "      <td>1</td>\n",
       "      <td>-0.109373</td>\n",
       "      <td>-1.0</td>\n",
       "      <td>0.494012</td>\n",
       "      <td>1.0</td>\n",
       "      <td>['wow', 'experience', 'I', 've', 'fly', 'porte...</td>\n",
       "      <td>['horrible']</td>\n",
       "      <td>Monday</td>\n",
       "      <td>11</td>\n",
       "      <td>2024</td>\n",
       "    </tr>\n",
       "    <tr>\n",
       "      <th>4</th>\n",
       "      <td>1</td>\n",
       "      <td>311</td>\n",
       "      <td>7</td>\n",
       "      <td>-0.126476</td>\n",
       "      <td>-1.0</td>\n",
       "      <td>0.485192</td>\n",
       "      <td>1.0</td>\n",
       "      <td>['spend', 'day', 'vacation', 'hong', 'kong', '...</td>\n",
       "      <td>['bad', 'flight', 'experience', 'I', 've', 'ev...</td>\n",
       "      <td>Monday</td>\n",
       "      <td>11</td>\n",
       "      <td>2024</td>\n",
       "    </tr>\n",
       "  </tbody>\n",
       "</table>\n",
       "</div>"
      ],
      "text/plain": [
       "   rating  review_length_text  review_length_title  polarity_text  \\\n",
       "0       1                 408                    2       0.018448   \n",
       "1       1                 157                    4      -0.060897   \n",
       "2       1                 259                   11      -0.094163   \n",
       "3       1                 274                    1      -0.109373   \n",
       "4       1                 311                    7      -0.126476   \n",
       "\n",
       "   polarity_title  subjectivity_text  subjectivity_title  \\\n",
       "0            -1.0           0.512241                 1.0   \n",
       "1            -1.0           0.592949                 1.0   \n",
       "2            -0.6           0.488287                 0.7   \n",
       "3            -1.0           0.494012                 1.0   \n",
       "4            -1.0           0.485192                 1.0   \n",
       "\n",
       "                                     lemmatized_text  \\\n",
       "0  ['travel', 'travel', 'often', 'last', 'week', ...   \n",
       "1  ['review', 'regard', 'economy', 'flex', 'choos...   \n",
       "2  ['recently', 'fly', 'hong', 'kong', 'nov', 'th...   \n",
       "3  ['wow', 'experience', 'I', 've', 'fly', 'porte...   \n",
       "4  ['spend', 'day', 'vacation', 'hong', 'kong', '...   \n",
       "\n",
       "                                    lemmatized_title day_of_week  month  year  \n",
       "0                                 ['bad', 'airline']   Wednesday     11  2024  \n",
       "1            ['terrible', 'experience', 'airfrance']   Wednesday     11  2024  \n",
       "2  ['extremely', 'disappointing', 'experience', '...     Tuesday     11  2024  \n",
       "3                                       ['horrible']      Monday     11  2024  \n",
       "4  ['bad', 'flight', 'experience', 'I', 've', 'ev...      Monday     11  2024  "
      ]
     },
     "execution_count": 6,
     "metadata": {},
     "output_type": "execute_result"
    }
   ],
   "source": [
    "df.head()"
   ]
  },
  {
   "cell_type": "code",
   "execution_count": null,
   "metadata": {},
   "outputs": [],
   "source": [
    "vader_analyzer = SentimentIntensityAnalyzer()\n",
    "\n",
    "\n",
    "def get_vader_sentiment(text):\n",
    "    if isinstance(text, str):\n",
    "        scores = vader_analyzer.polarity_scores(text)\n",
    "        return scores[\"compound\"]\n",
    "\n",
    "\n",
    "df[\"vader_sentiment\"] = df[\"lemmatized_text\"].apply(get_vader_sentiment)\n"
   ]
  },
  {
   "cell_type": "code",
   "execution_count": null,
   "metadata": {},
   "outputs": [],
   "source": [
    "df[\"vader_label\"] = df[\"vader_sentiment\"].apply(\n",
    "    lambda x: \"positive\" if x > 0.05 else (\"negative\" if x < -0.05 else \"neutral\")\n",
    ")"
   ]
  },
  {
   "cell_type": "code",
   "execution_count": 9,
   "metadata": {},
   "outputs": [
    {
     "data": {
      "text/html": [
       "<div>\n",
       "<style scoped>\n",
       "    .dataframe tbody tr th:only-of-type {\n",
       "        vertical-align: middle;\n",
       "    }\n",
       "\n",
       "    .dataframe tbody tr th {\n",
       "        vertical-align: top;\n",
       "    }\n",
       "\n",
       "    .dataframe thead th {\n",
       "        text-align: right;\n",
       "    }\n",
       "</style>\n",
       "<table border=\"1\" class=\"dataframe\">\n",
       "  <thead>\n",
       "    <tr style=\"text-align: right;\">\n",
       "      <th></th>\n",
       "      <th>lemmatized_text</th>\n",
       "      <th>vader_sentiment</th>\n",
       "      <th>vader_label</th>\n",
       "    </tr>\n",
       "  </thead>\n",
       "  <tbody>\n",
       "    <tr>\n",
       "      <th>0</th>\n",
       "      <td>['travel', 'travel', 'often', 'last', 'week', ...</td>\n",
       "      <td>-0.5574</td>\n",
       "      <td>negative</td>\n",
       "    </tr>\n",
       "    <tr>\n",
       "      <th>1</th>\n",
       "      <td>['review', 'regard', 'economy', 'flex', 'choos...</td>\n",
       "      <td>-0.8957</td>\n",
       "      <td>negative</td>\n",
       "    </tr>\n",
       "    <tr>\n",
       "      <th>2</th>\n",
       "      <td>['recently', 'fly', 'hong', 'kong', 'nov', 'th...</td>\n",
       "      <td>-0.9683</td>\n",
       "      <td>negative</td>\n",
       "    </tr>\n",
       "    <tr>\n",
       "      <th>3</th>\n",
       "      <td>['wow', 'experience', 'I', 've', 'fly', 'porte...</td>\n",
       "      <td>-0.9686</td>\n",
       "      <td>negative</td>\n",
       "    </tr>\n",
       "    <tr>\n",
       "      <th>4</th>\n",
       "      <td>['spend', 'day', 'vacation', 'hong', 'kong', '...</td>\n",
       "      <td>-0.8516</td>\n",
       "      <td>negative</td>\n",
       "    </tr>\n",
       "  </tbody>\n",
       "</table>\n",
       "</div>"
      ],
      "text/plain": [
       "                                     lemmatized_text  vader_sentiment  \\\n",
       "0  ['travel', 'travel', 'often', 'last', 'week', ...          -0.5574   \n",
       "1  ['review', 'regard', 'economy', 'flex', 'choos...          -0.8957   \n",
       "2  ['recently', 'fly', 'hong', 'kong', 'nov', 'th...          -0.9683   \n",
       "3  ['wow', 'experience', 'I', 've', 'fly', 'porte...          -0.9686   \n",
       "4  ['spend', 'day', 'vacation', 'hong', 'kong', '...          -0.8516   \n",
       "\n",
       "  vader_label  \n",
       "0    negative  \n",
       "1    negative  \n",
       "2    negative  \n",
       "3    negative  \n",
       "4    negative  "
      ]
     },
     "execution_count": 9,
     "metadata": {},
     "output_type": "execute_result"
    }
   ],
   "source": [
    "df[[\"lemmatized_text\", \"vader_sentiment\", \"vader_label\"]].head()"
   ]
  },
  {
   "cell_type": "code",
   "execution_count": null,
   "metadata": {},
   "outputs": [
    {
     "name": "stdout",
     "output_type": "stream",
     "text": [
      "              precision    recall  f1-score   support\n",
      "\n",
      "           0       0.78      0.82      0.80       260\n",
      "           1       0.81      0.75      0.78       252\n",
      "\n",
      "    accuracy                           0.79       512\n",
      "   macro avg       0.79      0.79      0.79       512\n",
      "weighted avg       0.79      0.79      0.79       512\n",
      "\n",
      "Accuracy: 0.7891\n"
     ]
    }
   ],
   "source": [
    "# Convert text into TF-IDF features\n",
    "tfidf_vectorizer = TfidfVectorizer(max_features=5000)\n",
    "X = tfidf_vectorizer.fit_transform(df[\"lemmatized_text\"].astype(str))\n",
    "y = df[\"rating\"].apply(\n",
    "    lambda x: 1 if x > 3 else 0\n",
    ")  # Binary sentiment: 1 (positive), 0 (negative)\n",
    "\n",
    "# Split data\n",
    "X_train, X_test, y_train, y_test = train_test_split(\n",
    "    X, y, test_size=0.2, random_state=42\n",
    ")\n",
    "\n",
    "# Train Logistic Regression model\n",
    "logistic_model = LogisticRegression()\n",
    "logistic_model.fit(X_train, y_train)\n",
    "\n",
    "# Predict and evaluate\n",
    "y_pred = logistic_model.predict(X_test)\n",
    "print(classification_report(y_test, y_pred))\n",
    "print(f\"Accuracy: {accuracy_score(y_test, y_pred):.4f}\")\n"
   ]
  },
  {
   "cell_type": "code",
   "execution_count": null,
   "metadata": {},
   "outputs": [
    {
     "name": "stderr",
     "output_type": "stream",
     "text": [
      "No model was supplied, defaulted to distilbert/distilbert-base-uncased-finetuned-sst-2-english and revision 714eb0f (https://huggingface.co/distilbert/distilbert-base-uncased-finetuned-sst-2-english).\n",
      "Using a pipeline without specifying a model name and revision in production is not recommended.\n",
      "Device set to use cuda:0\n"
     ]
    },
    {
     "name": "stdout",
     "output_type": "stream",
     "text": [
      "                                     lemmatized_text bert_label  bert_score\n",
      "0  ['travel', 'travel', 'often', 'last', 'week', ...   NEGATIVE    0.809581\n",
      "1  ['review', 'regard', 'economy', 'flex', 'choos...   NEGATIVE    0.994997\n",
      "2  ['recently', 'fly', 'hong', 'kong', 'nov', 'th...   NEGATIVE    0.998216\n",
      "3  ['wow', 'experience', 'I', 've', 'fly', 'porte...   NEGATIVE    0.992305\n",
      "4  ['spend', 'day', 'vacation', 'hong', 'kong', '...   NEGATIVE    0.998325\n"
     ]
    }
   ],
   "source": [
    "# Load pre-trained BERT sentiment classifier\n",
    "bert_sentiment = pipeline(\"sentiment-analysis\")\n",
    "\n",
    "\n",
    "def get_bert_sentiment(text):\n",
    "    if isinstance(text, str):\n",
    "        # Truncate text if it's too long for BERT\n",
    "        text = text[:500]  # Keeping it within a safe limit\n",
    "        result = bert_sentiment(text)[0]  # Get sentiment prediction\n",
    "        return result[\"label\"], result[\"score\"]\n",
    "    return \"neutral\", 0  # Default for missing values\n",
    "\n",
    "\n",
    "# Apply BERT sentiment analysis\n",
    "df[\"bert_label\"], df[\"bert_score\"] = zip(\n",
    "    *df[\"lemmatized_text\"].apply(get_bert_sentiment)\n",
    ")\n"
   ]
  },
  {
   "cell_type": "code",
   "execution_count": 13,
   "metadata": {},
   "outputs": [
    {
     "data": {
      "text/html": [
       "<div>\n",
       "<style scoped>\n",
       "    .dataframe tbody tr th:only-of-type {\n",
       "        vertical-align: middle;\n",
       "    }\n",
       "\n",
       "    .dataframe tbody tr th {\n",
       "        vertical-align: top;\n",
       "    }\n",
       "\n",
       "    .dataframe thead th {\n",
       "        text-align: right;\n",
       "    }\n",
       "</style>\n",
       "<table border=\"1\" class=\"dataframe\">\n",
       "  <thead>\n",
       "    <tr style=\"text-align: right;\">\n",
       "      <th></th>\n",
       "      <th>lemmatized_text</th>\n",
       "      <th>bert_label</th>\n",
       "      <th>bert_score</th>\n",
       "    </tr>\n",
       "  </thead>\n",
       "  <tbody>\n",
       "    <tr>\n",
       "      <th>0</th>\n",
       "      <td>['travel', 'travel', 'often', 'last', 'week', ...</td>\n",
       "      <td>NEGATIVE</td>\n",
       "      <td>0.809581</td>\n",
       "    </tr>\n",
       "    <tr>\n",
       "      <th>1</th>\n",
       "      <td>['review', 'regard', 'economy', 'flex', 'choos...</td>\n",
       "      <td>NEGATIVE</td>\n",
       "      <td>0.994997</td>\n",
       "    </tr>\n",
       "    <tr>\n",
       "      <th>2</th>\n",
       "      <td>['recently', 'fly', 'hong', 'kong', 'nov', 'th...</td>\n",
       "      <td>NEGATIVE</td>\n",
       "      <td>0.998216</td>\n",
       "    </tr>\n",
       "    <tr>\n",
       "      <th>3</th>\n",
       "      <td>['wow', 'experience', 'I', 've', 'fly', 'porte...</td>\n",
       "      <td>NEGATIVE</td>\n",
       "      <td>0.992305</td>\n",
       "    </tr>\n",
       "    <tr>\n",
       "      <th>4</th>\n",
       "      <td>['spend', 'day', 'vacation', 'hong', 'kong', '...</td>\n",
       "      <td>NEGATIVE</td>\n",
       "      <td>0.998325</td>\n",
       "    </tr>\n",
       "  </tbody>\n",
       "</table>\n",
       "</div>"
      ],
      "text/plain": [
       "                                     lemmatized_text bert_label  bert_score\n",
       "0  ['travel', 'travel', 'often', 'last', 'week', ...   NEGATIVE    0.809581\n",
       "1  ['review', 'regard', 'economy', 'flex', 'choos...   NEGATIVE    0.994997\n",
       "2  ['recently', 'fly', 'hong', 'kong', 'nov', 'th...   NEGATIVE    0.998216\n",
       "3  ['wow', 'experience', 'I', 've', 'fly', 'porte...   NEGATIVE    0.992305\n",
       "4  ['spend', 'day', 'vacation', 'hong', 'kong', '...   NEGATIVE    0.998325"
      ]
     },
     "execution_count": 13,
     "metadata": {},
     "output_type": "execute_result"
    }
   ],
   "source": [
    "# Display results\n",
    "df[[\"lemmatized_text\", \"bert_label\", \"bert_score\"]].head()"
   ]
  },
  {
   "cell_type": "code",
   "execution_count": null,
   "metadata": {},
   "outputs": [
    {
     "data": {
      "image/png": "[encoded data removed]",
      "text/plain": [
       "<Figure size 1200x500 with 1 Axes>"
      ]
     },
     "metadata": {},
     "output_type": "display_data"
    },
    {
     "data": {
      "image/png": "[encoded data removed]",
      "text/plain": [
       "<Figure size 1200x500 with 1 Axes>"
      ]
     },
     "metadata": {},
     "output_type": "display_data"
    }
   ],
   "source": [
    "# Plot sentiment distribution\n",
    "plt.figure(figsize=(12, 5))\n",
    "sns.countplot(data=df, x=\"vader_label\", order=[\"negative\", \"neutral\", \"positive\"])\n",
    "plt.title(\"Sentiment Distribution (VADER)\")\n",
    "plt.show()\n",
    "\n",
    "plt.figure(figsize=(12, 5))\n",
    "sns.countplot(data=df, x=\"bert_label\", order=[\"NEGATIVE\", \"NEUTRAL\", \"POSITIVE\"])\n",
    "plt.title(\"Sentiment Distribution (BERT)\")\n",
    "plt.show()\n"
   ]
  },
  {
   "cell_type": "code",
   "execution_count": 15,
   "metadata": {},
   "outputs": [
    {
     "name": "stdout",
     "output_type": "stream",
     "text": [
      "Sentiment analysis results saved!\n"
     ]
    }
   ],
   "source": [
    "# Save processed data with sentiment labels\n",
    "df.to_csv(\"../data/processed/sentiment_analysis_results.csv\", index=False)\n",
    "print(\"Sentiment analysis results saved!\")\n"
   ]
  },
  {
   "cell_type": "code",
   "execution_count": null,
   "metadata": {},
   "outputs": [
    {
     "name": "stdout",
     "output_type": "stream",
     "text": [
      "Top 5 Positive Reviews:\n"
     ]
    },
    {
     "data": {
      "text/html": [
       "<div>\n",
       "<style scoped>\n",
       "    .dataframe tbody tr th:only-of-type {\n",
       "        vertical-align: middle;\n",
       "    }\n",
       "\n",
       "    .dataframe tbody tr th {\n",
       "        vertical-align: top;\n",
       "    }\n",
       "\n",
       "    .dataframe thead th {\n",
       "        text-align: right;\n",
       "    }\n",
       "</style>\n",
       "<table border=\"1\" class=\"dataframe\">\n",
       "  <thead>\n",
       "    <tr style=\"text-align: right;\">\n",
       "      <th></th>\n",
       "      <th>lemmatized_text</th>\n",
       "      <th>bert_label</th>\n",
       "      <th>bert_score</th>\n",
       "    </tr>\n",
       "  </thead>\n",
       "  <tbody>\n",
       "    <tr>\n",
       "      <th>1158</th>\n",
       "      <td>['extraordinary', 'pleasant']</td>\n",
       "      <td>POSITIVE</td>\n",
       "      <td>0.999878</td>\n",
       "    </tr>\n",
       "    <tr>\n",
       "      <th>1534</th>\n",
       "      <td>['enjoy', 'smooth', 'comfortable', 'friendly',...</td>\n",
       "      <td>POSITIVE</td>\n",
       "      <td>0.999871</td>\n",
       "    </tr>\n",
       "    <tr>\n",
       "      <th>1495</th>\n",
       "      <td>['really', 'enjoyable', 'pleasant', 'smile', '...</td>\n",
       "      <td>POSITIVE</td>\n",
       "      <td>0.999863</td>\n",
       "    </tr>\n",
       "    <tr>\n",
       "      <th>588</th>\n",
       "      <td>['awesome', 'airlinevery', 'pleasant', 'delici...</td>\n",
       "      <td>POSITIVE</td>\n",
       "      <td>0.999855</td>\n",
       "    </tr>\n",
       "    <tr>\n",
       "      <th>1449</th>\n",
       "      <td>['punctual', 'seat', 'comfortable', 'food', 's...</td>\n",
       "      <td>POSITIVE</td>\n",
       "      <td>0.999854</td>\n",
       "    </tr>\n",
       "  </tbody>\n",
       "</table>\n",
       "</div>"
      ],
      "text/plain": [
       "                                        lemmatized_text bert_label  bert_score\n",
       "1158                      ['extraordinary', 'pleasant']   POSITIVE    0.999878\n",
       "1534  ['enjoy', 'smooth', 'comfortable', 'friendly',...   POSITIVE    0.999871\n",
       "1495  ['really', 'enjoyable', 'pleasant', 'smile', '...   POSITIVE    0.999863\n",
       "588   ['awesome', 'airlinevery', 'pleasant', 'delici...   POSITIVE    0.999855\n",
       "1449  ['punctual', 'seat', 'comfortable', 'food', 's...   POSITIVE    0.999854"
      ]
     },
     "metadata": {},
     "output_type": "display_data"
    },
    {
     "name": "stdout",
     "output_type": "stream",
     "text": [
      "\n",
      "Top 5 Negative Reviews:\n"
     ]
    },
    {
     "data": {
      "text/html": [
       "<div>\n",
       "<style scoped>\n",
       "    .dataframe tbody tr th:only-of-type {\n",
       "        vertical-align: middle;\n",
       "    }\n",
       "\n",
       "    .dataframe tbody tr th {\n",
       "        vertical-align: top;\n",
       "    }\n",
       "\n",
       "    .dataframe thead th {\n",
       "        text-align: right;\n",
       "    }\n",
       "</style>\n",
       "<table border=\"1\" class=\"dataframe\">\n",
       "  <thead>\n",
       "    <tr style=\"text-align: right;\">\n",
       "      <th></th>\n",
       "      <th>lemmatized_text</th>\n",
       "      <th>bert_label</th>\n",
       "      <th>bert_score</th>\n",
       "    </tr>\n",
       "  </thead>\n",
       "  <tbody>\n",
       "    <tr>\n",
       "      <th>2151</th>\n",
       "      <td>['return', 'south', 'africa', 'prebooke', 'duo...</td>\n",
       "      <td>POSITIVE</td>\n",
       "      <td>0.501560</td>\n",
       "    </tr>\n",
       "    <tr>\n",
       "      <th>500</th>\n",
       "      <td>['process', 'swift', 'really', 'start', 'save'...</td>\n",
       "      <td>NEGATIVE</td>\n",
       "      <td>0.504420</td>\n",
       "    </tr>\n",
       "    <tr>\n",
       "      <th>1836</th>\n",
       "      <td>['oh', 'mon', 'dieuorlyt', 'mad', 'houseno', '...</td>\n",
       "      <td>POSITIVE</td>\n",
       "      <td>0.505483</td>\n",
       "    </tr>\n",
       "    <tr>\n",
       "      <th>228</th>\n",
       "      <td>['drop', 'ocean', 'number', 'review', 'voice',...</td>\n",
       "      <td>NEGATIVE</td>\n",
       "      <td>0.506199</td>\n",
       "    </tr>\n",
       "    <tr>\n",
       "      <th>2346</th>\n",
       "      <td>['first', 'I', 'd', 'fly', 'haul', 'experience...</td>\n",
       "      <td>NEGATIVE</td>\n",
       "      <td>0.506787</td>\n",
       "    </tr>\n",
       "  </tbody>\n",
       "</table>\n",
       "</div>"
      ],
      "text/plain": [
       "                                        lemmatized_text bert_label  bert_score\n",
       "2151  ['return', 'south', 'africa', 'prebooke', 'duo...   POSITIVE    0.501560\n",
       "500   ['process', 'swift', 'really', 'start', 'save'...   NEGATIVE    0.504420\n",
       "1836  ['oh', 'mon', 'dieuorlyt', 'mad', 'houseno', '...   POSITIVE    0.505483\n",
       "228   ['drop', 'ocean', 'number', 'review', 'voice',...   NEGATIVE    0.506199\n",
       "2346  ['first', 'I', 'd', 'fly', 'haul', 'experience...   NEGATIVE    0.506787"
      ]
     },
     "metadata": {},
     "output_type": "display_data"
    }
   ],
   "source": [
    "# Show most positive and negative reviews\n",
    "top_positive = df.nlargest(5, \"bert_score\")[\n",
    "    [\"lemmatized_text\", \"bert_label\", \"bert_score\"]\n",
    "]\n",
    "top_negative = df.nsmallest(5, \"bert_score\")[\n",
    "    [\"lemmatized_text\", \"bert_label\", \"bert_score\"]\n",
    "]\n",
    "\n",
    "print(\"Top 5 Positive Reviews:\")\n",
    "display(top_positive)\n",
    "print(\"\\nTop 5 Negative Reviews:\")\n",
    "display(top_negative)"
   ]
  },
  {
   "cell_type": "code",
   "execution_count": null,
   "metadata": {},
   "outputs": [],
   "source": []
  }
 ],
 "metadata": {
  "kernelspec": {
   "display_name": "nlp_airfrance_env",
   "language": "python",
   "name": "python3"
  },
  "language_info": {
   "codemirror_mode": {
    "name": "ipython",
    "version": 3
   },
   "file_extension": ".py",
   "mimetype": "text/x-python",
   "name": "python",
   "nbconvert_exporter": "python",
   "pygments_lexer": "ipython3",
   "version": "3.9.21"
  }
 },
 "nbformat": 4,
 "nbformat_minor": 2
}
